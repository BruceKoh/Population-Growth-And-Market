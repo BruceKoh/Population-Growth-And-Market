{
 "cells": [
  {
   "cell_type": "code",
   "execution_count": 1,
   "metadata": {
    "ExecuteTime": {
     "end_time": "2020-01-24T13:31:12.442462Z",
     "start_time": "2020-01-24T13:31:10.027450Z"
    }
   },
   "outputs": [],
   "source": [
    "import pandas as pd\n",
    "import numpy as np\n",
    "import matplotlib.pyplot as plt\n",
    "import os"
   ]
  },
  {
   "cell_type": "code",
   "execution_count": 2,
   "metadata": {
    "ExecuteTime": {
     "end_time": "2020-01-24T13:31:13.444160Z",
     "start_time": "2020-01-24T13:31:12.980401Z"
    }
   },
   "outputs": [
    {
     "name": "stdout",
     "output_type": "stream",
     "text": [
      "1900 - 1909.xls\n",
      "1910 - 1919.xls\n",
      "1920 - 1929.xls\n",
      "1930 - 1939.xls\n",
      "1940 - 1949.xls\n",
      "1950 - 1959.xls\n",
      "1960 - 1969.xls\n",
      "1970 - 1979.xls\n"
     ]
    }
   ],
   "source": [
    "runDir = \"E:\\Programming\\Python\\MJ\\Projects\\Population growth and markets\\Population Data US\"\n",
    "\n",
    "if os.getcwd() != runDir:\n",
    "    os.chdir(runDir)\n",
    "files = os.listdir(runDir)\n",
    "d = {}  # dictionary that will hold them\n",
    "\n",
    "for file_name in files:  # loop over files\n",
    "    print(file_name)\n",
    "    # read csv into a dataframe and add it to dict with file_name as it key\n",
    "    d[file_name[0:4]] = pd.read_excel(file_name,\n",
    "                                 names=['Age', 'Total Population'], dtype={'Age': str, 'Total Population': int},\n",
    "                                 usecols=\"A:B\", skiprows=8, skipfooter=15,sheet_name=None)"
   ]
  },
  {
   "cell_type": "code",
   "execution_count": 3,
   "metadata": {
    "ExecuteTime": {
     "end_time": "2020-01-24T13:31:14.028295Z",
     "start_time": "2020-01-24T13:31:14.019292Z"
    }
   },
   "outputs": [],
   "source": [
    "mydict = {}\n",
    "for key in ['0', '1', '2', '3', '4']:\n",
    "    mydict[key] = 'Under 5 years'\n",
    "for key in ['5', '6', '7', '8', '9']:\n",
    "    mydict[key] = '5 to 9 years'\n",
    "for key in ['10', '11', '12', '13', '14']:\n",
    "    mydict[key] = '10 to 14 years'\n",
    "for key in ['15', '16', '17', '18', '19']:\n",
    "    mydict[key] = '15 to 19 years'\n",
    "for key in ['20', '21', '22', '23', '24']:\n",
    "    mydict[key] = '20 to 24 years'\n",
    "for key in ['25', '26', '27', '28', '29']:\n",
    "    mydict[key] = '25 to 29 years'\n",
    "for key in ['30', '31', '32', '33', '34']:\n",
    "    mydict[key] = '30 to 34 years'\n",
    "for key in ['30', '31', '32', '33', '34']:\n",
    "    mydict[key] = '30 to 34 years'\n",
    "for key in ['35', '36', '37', '38', '39']:\n",
    "    mydict[key] = '35 to 39 years'\n",
    "for key in ['40', '41', '42', '43', '44']:\n",
    "    mydict[key] = '40 to 44 years'\n",
    "for key in ['45', '46', '47', '48', '49']:\n",
    "    mydict[key] = '45 to 49 years'\n",
    "for key in ['50', '51', '52', '53', '54']:\n",
    "    mydict[key] = '50 to 54 years'\n",
    "for key in ['55', '56', '57', '58', '59']:\n",
    "    mydict[key] = '55 to 59 years'\n",
    "for key in ['60', '61', '62', '63', '64']:\n",
    "    mydict[key] = '60 to 64 years'\n",
    "for key in ['65', '66', '67', '68', '69']:\n",
    "    mydict[key] = '65 to 69 years'\n",
    "for key in ['70', '71', '72', '73', '74']:\n",
    "    mydict[key] = '70 to 74 years'\n",
    "for key in ['75', '76', '77', '78', '79']:\n",
    "    mydict[key] = '75 to 79 years'\n",
    "for key in ['80', '81', '82', '83', '84']:\n",
    "    mydict[key] = '80 to 84 years'\n",
    "for key in ['85+']:\n",
    "    mydict[key] = '85 years and above'"
   ]
  },
  {
   "cell_type": "code",
   "execution_count": 4,
   "metadata": {
    "ExecuteTime": {
     "end_time": "2020-01-24T13:31:14.934304Z",
     "start_time": "2020-01-24T13:31:14.749263Z"
    }
   },
   "outputs": [],
   "source": [
    "df = {}\n",
    "for keys in d:\n",
    "    for k in d[keys]:\n",
    "        df[k]= d[keys].get(k)\n",
    "        df[k].Age = df[k].Age.map(mydict)\n",
    "        df[k] = df[k].groupby('Age', as_index=False)['Total Population'].sum()    "
   ]
  },
  {
   "cell_type": "code",
   "execution_count": 5,
   "metadata": {
    "ExecuteTime": {
     "end_time": "2020-01-24T13:31:15.414242Z",
     "start_time": "2020-01-24T13:31:15.387233Z"
    }
   },
   "outputs": [],
   "source": [
    "dfMO = {}\n",
    "for i in range (1900,1980):\n",
    "    a = np.array(df[str(i)].Age)\n",
    "    b = np.array(df[str(i)]['Total Population'])\n",
    "    totMpop = b[(a == '40 to 44 years') | (a == '45 to 49 years')].sum()\n",
    "    totOpop = b[(a == '60 to 64 years') | (a == '65 to 69 years')].sum()\n",
    "    MO = totMpop/totOpop\n",
    "    dfMO[str(i)] = pd.DataFrame(np.array([[MO, str(i)]]),columns=['M/O Ratio', 'Year'])"
   ]
  },
  {
   "cell_type": "code",
   "execution_count": 6,
   "metadata": {
    "ExecuteTime": {
     "end_time": "2020-01-24T13:31:15.984401Z",
     "start_time": "2020-01-24T13:31:15.963396Z"
    }
   },
   "outputs": [],
   "source": [
    "dfMOT = dfMO['1900']\n",
    "for i in range(1901,1980):\n",
    "    dfMOT = pd.concat([dfMOT, dfMO[str(i)]])"
   ]
  },
  {
   "cell_type": "code",
   "execution_count": 7,
   "metadata": {
    "ExecuteTime": {
     "end_time": "2020-01-24T13:31:18.284394Z",
     "start_time": "2020-01-24T13:31:18.274392Z"
    }
   },
   "outputs": [
    {
     "data": {
      "text/html": [
       "<div>\n",
       "<style scoped>\n",
       "    .dataframe tbody tr th:only-of-type {\n",
       "        vertical-align: middle;\n",
       "    }\n",
       "\n",
       "    .dataframe tbody tr th {\n",
       "        vertical-align: top;\n",
       "    }\n",
       "\n",
       "    .dataframe thead th {\n",
       "        text-align: right;\n",
       "    }\n",
       "</style>\n",
       "<table border=\"1\" class=\"dataframe\">\n",
       "  <thead>\n",
       "    <tr style=\"text-align: right;\">\n",
       "      <th></th>\n",
       "      <th>M/O Ratio</th>\n",
       "      <th>Year</th>\n",
       "    </tr>\n",
       "  </thead>\n",
       "  <tbody>\n",
       "    <tr>\n",
       "      <th>0</th>\n",
       "      <td>2.489402697495183</td>\n",
       "      <td>1900</td>\n",
       "    </tr>\n",
       "    <tr>\n",
       "      <th>0</th>\n",
       "      <td>2.490276035131744</td>\n",
       "      <td>1901</td>\n",
       "    </tr>\n",
       "    <tr>\n",
       "      <th>0</th>\n",
       "      <td>2.49402390438247</td>\n",
       "      <td>1902</td>\n",
       "    </tr>\n",
       "    <tr>\n",
       "      <th>0</th>\n",
       "      <td>2.494456098291879</td>\n",
       "      <td>1903</td>\n",
       "    </tr>\n",
       "    <tr>\n",
       "      <th>0</th>\n",
       "      <td>2.493559718969555</td>\n",
       "      <td>1904</td>\n",
       "    </tr>\n",
       "    <tr>\n",
       "      <th>...</th>\n",
       "      <td>...</td>\n",
       "      <td>...</td>\n",
       "    </tr>\n",
       "    <tr>\n",
       "      <th>0</th>\n",
       "      <td>1.3108627101426733</td>\n",
       "      <td>1975</td>\n",
       "    </tr>\n",
       "    <tr>\n",
       "      <th>0</th>\n",
       "      <td>1.280504544900771</td>\n",
       "      <td>1976</td>\n",
       "    </tr>\n",
       "    <tr>\n",
       "      <th>0</th>\n",
       "      <td>1.2561715176077515</td>\n",
       "      <td>1977</td>\n",
       "    </tr>\n",
       "    <tr>\n",
       "      <th>0</th>\n",
       "      <td>1.2394844924130202</td>\n",
       "      <td>1978</td>\n",
       "    </tr>\n",
       "    <tr>\n",
       "      <th>0</th>\n",
       "      <td>1.2227834048275639</td>\n",
       "      <td>1979</td>\n",
       "    </tr>\n",
       "  </tbody>\n",
       "</table>\n",
       "<p>80 rows × 2 columns</p>\n",
       "</div>"
      ],
      "text/plain": [
       "             M/O Ratio  Year\n",
       "0    2.489402697495183  1900\n",
       "0    2.490276035131744  1901\n",
       "0     2.49402390438247  1902\n",
       "0    2.494456098291879  1903\n",
       "0    2.493559718969555  1904\n",
       "..                 ...   ...\n",
       "0   1.3108627101426733  1975\n",
       "0    1.280504544900771  1976\n",
       "0   1.2561715176077515  1977\n",
       "0   1.2394844924130202  1978\n",
       "0   1.2227834048275639  1979\n",
       "\n",
       "[80 rows x 2 columns]"
      ]
     },
     "execution_count": 7,
     "metadata": {},
     "output_type": "execute_result"
    }
   ],
   "source": [
    "dfMOT"
   ]
  },
  {
   "cell_type": "code",
   "execution_count": 25,
   "metadata": {
    "ExecuteTime": {
     "end_time": "2020-01-24T13:45:08.326715Z",
     "start_time": "2020-01-24T13:45:08.162152Z"
    }
   },
   "outputs": [
    {
     "data": {
      "image/png": "[encoded data removed]",
      "text/plain": [
       "<Figure size 864x648 with 1 Axes>"
      ]
     },
     "metadata": {
      "needs_background": "light"
     },
     "output_type": "display_data"
    }
   ],
   "source": [
    "c = np.array(dfMOT['Year'])\n",
    "c = c.astype(int)\n",
    "d = np.array(dfMOT['M/O Ratio'])\n",
    "d = d.astype(float)\n",
    "plt.figure(figsize=(12,9))\n",
    "plt.yticks(np.arange(min(d), max(d) + 0.1, 0.1))\n",
    "plt.xticks(np.arange(min(c), max(c) + 1, 10))\n",
    "plt.title(\"M/O Ratio from 1900 to 1979\",color='w')\n",
    "           \n",
    "[i.set_color(\"red\") for i in plt.gca().get_xticklabels()]\n",
    "[i.set_color(\"red\") for i in plt.gca().get_yticklabels()]\n",
    "plt.plot(c,d,'r')\n",
    "plt.savefig('MO.png')\n",
    "plt.show()\n"
   ]
  },
  {
   "cell_type": "code",
   "execution_count": null,
   "metadata": {},
   "outputs": [],
   "source": []
  }
 ],
 "metadata": {
  "hide_input": false,
  "kernelspec": {
   "display_name": "CfaMJ",
   "language": "python",
   "name": "cfamj"
  },
  "language_info": {
   "codemirror_mode": {
    "name": "ipython",
    "version": 3
   },
   "file_extension": ".py",
   "mimetype": "text/x-python",
   "name": "python",
   "nbconvert_exporter": "python",
   "pygments_lexer": "ipython3",
   "version": "3.7.5"
  },
  "toc": {
   "base_numbering": 1,
   "nav_menu": {},
   "number_sections": true,
   "sideBar": true,
   "skip_h1_title": false,
   "title_cell": "Table of Contents",
   "title_sidebar": "Contents",
   "toc_cell": false,
   "toc_position": {
    "height": "calc(100% - 180px)",
    "left": "10px",
    "top": "150px",
    "width": "496px"
   },
   "toc_section_display": true,
   "toc_window_display": true
  }
 },
 "nbformat": 4,
 "nbformat_minor": 2
}
