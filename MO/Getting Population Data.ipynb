{
 "cells": [
  {
   "cell_type": "code",
   "execution_count": 1,
   "metadata": {
    "ExecuteTime": {
     "end_time": "2020-02-08T15:59:04.889309Z",
     "start_time": "2020-02-08T15:59:04.394423Z"
    }
   },
   "outputs": [],
   "source": [
    "import pandas as pd\n",
    "import numpy as np\n",
    "import matplotlib.pyplot as plt\n",
    "import os"
   ]
  },
  {
   "cell_type": "code",
   "execution_count": 2,
   "metadata": {
    "ExecuteTime": {
     "end_time": "2020-02-08T15:59:05.297200Z",
     "start_time": "2020-02-08T15:59:05.294199Z"
    }
   },
   "outputs": [],
   "source": [
    "runDir = r\"E:\\Programming\\Python\\MJ\\Projects\\Population growth and markets\\Population-growth-and-market\\Population Data US\"\n",
    "\n",
    "if os.getcwd() != runDir:\n",
    "    os.chdir(runDir)\n",
    "files = os.listdir(runDir)"
   ]
  },
  {
   "cell_type": "code",
   "execution_count": 3,
   "metadata": {
    "ExecuteTime": {
     "end_time": "2020-02-08T15:59:14.183710Z",
     "start_time": "2020-02-08T15:59:05.871326Z"
    }
   },
   "outputs": [],
   "source": [
    "US = pd.read_csv('us.1969_2018.19ages.adjusted.txt',names=['Dict'])"
   ]
  },
  {
   "cell_type": "code",
   "execution_count": 4,
   "metadata": {
    "ExecuteTime": {
     "end_time": "2020-02-08T16:00:04.523312Z",
     "start_time": "2020-02-08T15:59:18.051383Z"
    }
   },
   "outputs": [],
   "source": [
    "# https://seer.cancer.gov/popdata/popdic.html (Dictionary Format)\n",
    "US['Year'] = US['Dict'].str[:4]\n",
    "US['State'] = US['Dict'].str[4:6]\n",
    "US['State FIPS'] = US['Dict'].str[6:8]\n",
    "US['County FIPS'] = US['Dict'].str[8:11]\n",
    "US['Registry'] = US['Dict'].str[11:13]\n",
    "US['Race'] = US['Dict'].str[13]\n",
    "US['Origin'] = US['Dict'].str[14]\n",
    "US['Sex'] = US['Dict'].str[15]\n",
    "US['Age'] = US['Dict'].str[16:18]\n",
    "US['Population'] = US['Dict'].str[18:]\n",
    "US['Population'] = US['Population'].astype(int)"
   ]
  },
  {
   "cell_type": "code",
   "execution_count": 5,
   "metadata": {
    "ExecuteTime": {
     "end_time": "2020-02-08T16:00:20.269679Z",
     "start_time": "2020-02-08T16:00:20.257357Z"
    }
   },
   "outputs": [],
   "source": [
    "dict_Registry={\n",
    "'01' : 'San Francisco-Oakland SMSA','02' : 'Connecticut',\n",
    "'20' : 'Detroit (Metropolitan)', '21' : 'Hawaii',\n",
    "'22' : 'Iowa','23' : 'New Mexico','25' : 'Seattle (Puget Sound)',\n",
    "'26' : 'Utah','27' : 'Atlanta (Metropolitan)','29' : 'Alaska',\n",
    "'31' : 'San Jose-Monterey','33' : 'Arizona','35' : 'Los Angeles',\n",
    "'37' : 'Rural Georgia','41' : 'California excluding SF/SJM/LA',\n",
    "'42' : 'Kentucky','43' : 'Louisiana','44' : 'New Jersey',\n",
    "'47' : 'Georgia excluding Atlanta/Rural Georgia',\n",
    "'61' : 'Idaho','62' : 'New York','63' : 'Massachusetts',\n",
    "'99' : 'Registry for non-SEER area'}\n",
    "\n",
    "dict_race = {'1' : 'White' , '2' : 'Black', '3' : 'Other'}\n",
    "\n",
    "dict_origin = {'0' : 'Non-Hispanic','1' : 'Hispanic','9' : 'Not applicable in 1969+ W,B,O files'}\n",
    "\n",
    "dict_sex = {'1' : 'Male', '2' : 'Female'}\n",
    "\n",
    "dict_age = {'00' : '0 years', '01' : '1-4 years', '02' : '5-9 years', '03' : '10-14 years', '04' : '15-19 years',\n",
    "            '05' : '20-24 years', '06':'25-29 years', '07':'30-34 years', '08':'35-39 years','09':'40-44 years',\n",
    "           '10':'45-49 years','11':'50-54 years','12':'55-59 years','13':'60-64 years','14':'65-69 years',\n",
    "           '15':'70-74 years','16':'75-79 years','17':'80-84 years','18':'85+ years'}"
   ]
  },
  {
   "cell_type": "code",
   "execution_count": 6,
   "metadata": {
    "ExecuteTime": {
     "end_time": "2020-02-08T16:00:28.214262Z",
     "start_time": "2020-02-08T16:00:21.618475Z"
    }
   },
   "outputs": [],
   "source": [
    "US['Registry'] = US['Registry'].map(dict_Registry)\n",
    "US['Race'] = US['Race'].map(dict_race)\n",
    "US['Origin'] = US['Origin'].map(dict_origin)\n",
    "US['Sex'] = US['Sex'].map(dict_sex)\n",
    "US['Age'] = US['Age'].map(dict_age)"
   ]
  },
  {
   "cell_type": "code",
   "execution_count": 7,
   "metadata": {
    "ExecuteTime": {
     "end_time": "2020-02-08T16:00:34.114183Z",
     "start_time": "2020-02-08T16:00:28.216263Z"
    }
   },
   "outputs": [
    {
     "data": {
      "text/plain": [
       "Year  Age        \n",
       "1969  0 years         3494217\n",
       "      1-4 years      13611445\n",
       "      10-14 years    20632511\n",
       "      15-19 years    18764655\n",
       "      20-24 years    15470133\n",
       "                       ...   \n",
       "2018  65-69 years    17086893\n",
       "      70-74 years    13405423\n",
       "      75-79 years     9267066\n",
       "      80-84 years     6127308\n",
       "      85+ years       6544503\n",
       "Name: Population, Length: 950, dtype: int32"
      ]
     },
     "execution_count": 7,
     "metadata": {},
     "output_type": "execute_result"
    }
   ],
   "source": [
    "US_grouped = US.groupby(['Year','Age'])['Population'].sum()\n",
    "US_grouped"
   ]
  },
  {
   "cell_type": "code",
   "execution_count": 8,
   "metadata": {
    "ExecuteTime": {
     "end_time": "2020-02-08T16:00:44.613328Z",
     "start_time": "2020-02-08T16:00:44.598744Z"
    }
   },
   "outputs": [],
   "source": [
    "US_top = US_grouped.loc[:,'40-44 years'] + US_grouped.loc[:,'45-49 years'] \n",
    "US_bottom = US_grouped.loc[:,'60-64 years'] + US_grouped.loc[:,'65-69 years']\n",
    "MO = US_top/US_bottom\n",
    "dfMOT1 = MO.loc['1980':]"
   ]
  },
  {
   "cell_type": "code",
   "execution_count": 9,
   "metadata": {
    "ExecuteTime": {
     "end_time": "2020-02-08T16:00:45.684236Z",
     "start_time": "2020-02-08T16:00:45.676234Z"
    }
   },
   "outputs": [],
   "source": [
    "dfMOT1 = dfMOT1.to_frame().reset_index()\n",
    "dfMOT1 = dfMOT1.rename(columns={'Population':'M/O Ratio'})\n",
    "dfMOT1 = dfMOT1[['M/O Ratio','Year']]"
   ]
  },
  {
   "cell_type": "code",
   "execution_count": 11,
   "metadata": {
    "ExecuteTime": {
     "end_time": "2020-02-08T16:01:01.966254Z",
     "start_time": "2020-02-08T16:01:01.179594Z"
    }
   },
   "outputs": [],
   "source": [
    "# First = 1900 to 1979\n",
    "First = files[0:8]\n",
    "\n",
    "d = {}  # dictionary that will hold them\n",
    "\n",
    "for file_name in First:  # loop over files\n",
    "    # read csv into a dataframe and add it to dict with file_name as it key\n",
    "    d[file_name[0:4]] = pd.read_excel(file_name,\n",
    "                                 names=['Age', 'Total Population'], dtype={'Age': str, 'Total Population': int},\n",
    "                                 usecols=\"A:B\", skiprows=8, skipfooter=15,sheet_name=None)\n",
    "    "
   ]
  },
  {
   "cell_type": "code",
   "execution_count": 12,
   "metadata": {
    "ExecuteTime": {
     "end_time": "2020-02-08T16:01:01.977431Z",
     "start_time": "2020-02-08T16:01:01.967254Z"
    }
   },
   "outputs": [],
   "source": [
    "mydict = {}\n",
    "for key in ['0', '1', '2', '3', '4']:\n",
    "    mydict[key] = 'Under 5 years'\n",
    "for key in ['5', '6', '7', '8', '9']:\n",
    "    mydict[key] = '5 to 9 years'\n",
    "for key in ['10', '11', '12', '13', '14']:\n",
    "    mydict[key] = '10 to 14 years'\n",
    "for key in ['15', '16', '17', '18', '19']:\n",
    "    mydict[key] = '15 to 19 years'\n",
    "for key in ['20', '21', '22', '23', '24']:\n",
    "    mydict[key] = '20 to 24 years'\n",
    "for key in ['25', '26', '27', '28', '29']:\n",
    "    mydict[key] = '25 to 29 years'\n",
    "for key in ['30', '31', '32', '33', '34']:\n",
    "    mydict[key] = '30 to 34 years'\n",
    "for key in ['30', '31', '32', '33', '34']:\n",
    "    mydict[key] = '30 to 34 years'\n",
    "for key in ['35', '36', '37', '38', '39']:\n",
    "    mydict[key] = '35 to 39 years'\n",
    "for key in ['40', '41', '42', '43', '44']:\n",
    "    mydict[key] = '40 to 44 years'\n",
    "for key in ['45', '46', '47', '48', '49']:\n",
    "    mydict[key] = '45 to 49 years'\n",
    "for key in ['50', '51', '52', '53', '54']:\n",
    "    mydict[key] = '50 to 54 years'\n",
    "for key in ['55', '56', '57', '58', '59']:\n",
    "    mydict[key] = '55 to 59 years'\n",
    "for key in ['60', '61', '62', '63', '64']:\n",
    "    mydict[key] = '60 to 64 years'\n",
    "for key in ['65', '66', '67', '68', '69']:\n",
    "    mydict[key] = '65 to 69 years'\n",
    "for key in ['70', '71', '72', '73', '74']:\n",
    "    mydict[key] = '70 to 74 years'\n",
    "for key in ['75', '76', '77', '78', '79']:\n",
    "    mydict[key] = '75 to 79 years'\n",
    "for key in ['80', '81', '82', '83', '84']:\n",
    "    mydict[key] = '80 to 84 years'\n",
    "for key in ['85+']:\n",
    "    mydict[key] = '85 years and above'"
   ]
  },
  {
   "cell_type": "code",
   "execution_count": 13,
   "metadata": {
    "ExecuteTime": {
     "end_time": "2020-02-08T16:01:02.871160Z",
     "start_time": "2020-02-08T16:01:02.699325Z"
    }
   },
   "outputs": [],
   "source": [
    "df = {}\n",
    "for keys in d:\n",
    "    for k in d[keys]:\n",
    "        df[k]= d[keys].get(k)\n",
    "        df[k].Age = df[k].Age.map(mydict)\n",
    "        df[k] = df[k].groupby('Age', as_index=False)['Total Population'].sum()    "
   ]
  },
  {
   "cell_type": "code",
   "execution_count": 14,
   "metadata": {
    "ExecuteTime": {
     "end_time": "2020-02-08T16:01:03.225392Z",
     "start_time": "2020-02-08T16:01:03.196386Z"
    }
   },
   "outputs": [],
   "source": [
    "dfMO = {}\n",
    "for i in range (1900,1980):\n",
    "    a = np.array(df[str(i)].Age)\n",
    "    b = np.array(df[str(i)]['Total Population'])\n",
    "    totMpop = b[(a == '40 to 44 years') | (a == '45 to 49 years')].sum()\n",
    "    totOpop = b[(a == '60 to 64 years') | (a == '65 to 69 years')].sum()\n",
    "    MO = totMpop/totOpop\n",
    "    dfMO[str(i)] = pd.DataFrame(np.array([[MO, str(i)]]),columns=['M/O Ratio', 'Year'])"
   ]
  },
  {
   "cell_type": "code",
   "execution_count": 15,
   "metadata": {
    "ExecuteTime": {
     "end_time": "2020-02-08T16:01:04.627016Z",
     "start_time": "2020-02-08T16:01:04.602726Z"
    }
   },
   "outputs": [],
   "source": [
    "dfMOT = dfMO['1900']\n",
    "for i in range(1901,1980):\n",
    "    dfMOT = pd.concat([dfMOT, dfMO[str(i)]])"
   ]
  },
  {
   "cell_type": "code",
   "execution_count": 16,
   "metadata": {
    "ExecuteTime": {
     "end_time": "2020-02-08T16:01:57.445144Z",
     "start_time": "2020-02-08T16:01:57.437874Z"
    }
   },
   "outputs": [
    {
     "data": {
      "text/html": [
       "<div>\n",
       "<style scoped>\n",
       "    .dataframe tbody tr th:only-of-type {\n",
       "        vertical-align: middle;\n",
       "    }\n",
       "\n",
       "    .dataframe tbody tr th {\n",
       "        vertical-align: top;\n",
       "    }\n",
       "\n",
       "    .dataframe thead th {\n",
       "        text-align: right;\n",
       "    }\n",
       "</style>\n",
       "<table border=\"1\" class=\"dataframe\">\n",
       "  <thead>\n",
       "    <tr style=\"text-align: right;\">\n",
       "      <th></th>\n",
       "      <th>M/O Ratio</th>\n",
       "      <th>Year</th>\n",
       "    </tr>\n",
       "  </thead>\n",
       "  <tbody>\n",
       "    <tr>\n",
       "      <th>0</th>\n",
       "      <td>2.489402697495183</td>\n",
       "      <td>1900</td>\n",
       "    </tr>\n",
       "    <tr>\n",
       "      <th>0</th>\n",
       "      <td>2.490276035131744</td>\n",
       "      <td>1901</td>\n",
       "    </tr>\n",
       "    <tr>\n",
       "      <th>0</th>\n",
       "      <td>2.49402390438247</td>\n",
       "      <td>1902</td>\n",
       "    </tr>\n",
       "    <tr>\n",
       "      <th>0</th>\n",
       "      <td>2.494456098291879</td>\n",
       "      <td>1903</td>\n",
       "    </tr>\n",
       "    <tr>\n",
       "      <th>0</th>\n",
       "      <td>2.493559718969555</td>\n",
       "      <td>1904</td>\n",
       "    </tr>\n",
       "    <tr>\n",
       "      <th>...</th>\n",
       "      <td>...</td>\n",
       "      <td>...</td>\n",
       "    </tr>\n",
       "    <tr>\n",
       "      <th>34</th>\n",
       "      <td>1.22293</td>\n",
       "      <td>2014</td>\n",
       "    </tr>\n",
       "    <tr>\n",
       "      <th>35</th>\n",
       "      <td>1.16747</td>\n",
       "      <td>2015</td>\n",
       "    </tr>\n",
       "    <tr>\n",
       "      <th>36</th>\n",
       "      <td>1.11997</td>\n",
       "      <td>2016</td>\n",
       "    </tr>\n",
       "    <tr>\n",
       "      <th>37</th>\n",
       "      <td>1.10238</td>\n",
       "      <td>2017</td>\n",
       "    </tr>\n",
       "    <tr>\n",
       "      <th>38</th>\n",
       "      <td>1.08132</td>\n",
       "      <td>2018</td>\n",
       "    </tr>\n",
       "  </tbody>\n",
       "</table>\n",
       "<p>119 rows × 2 columns</p>\n",
       "</div>"
      ],
      "text/plain": [
       "            M/O Ratio  Year\n",
       "0   2.489402697495183  1900\n",
       "0   2.490276035131744  1901\n",
       "0    2.49402390438247  1902\n",
       "0   2.494456098291879  1903\n",
       "0   2.493559718969555  1904\n",
       "..                ...   ...\n",
       "34            1.22293  2014\n",
       "35            1.16747  2015\n",
       "36            1.11997  2016\n",
       "37            1.10238  2017\n",
       "38            1.08132  2018\n",
       "\n",
       "[119 rows x 2 columns]"
      ]
     },
     "execution_count": 16,
     "metadata": {},
     "output_type": "execute_result"
    }
   ],
   "source": [
    "dfMOT = pd.concat([dfMOT,dfMOT1])\n",
    "dfMOT"
   ]
  },
  {
   "cell_type": "code",
   "execution_count": 18,
   "metadata": {
    "ExecuteTime": {
     "end_time": "2020-02-08T16:04:52.990155Z",
     "start_time": "2020-02-08T16:04:52.787680Z"
    }
   },
   "outputs": [
    {
     "data": {
      "image/png": "[encoded data removed]",
      "text/plain": [
       "<Figure size 864x648 with 1 Axes>"
      ]
     },
     "metadata": {
      "needs_background": "light"
     },
     "output_type": "display_data"
    }
   ],
   "source": [
    "c = np.array(dfMOT['Year'])\n",
    "c = c.astype(int)\n",
    "d = np.array(dfMOT['M/O Ratio'])\n",
    "d = d.astype(float)\n",
    "plt.figure(figsize=(12,9))\n",
    "plt.yticks(np.arange(min(d), max(d) + 0.1, 0.1))\n",
    "plt.xticks(np.arange(min(c), max(c) + 1, 10))\n",
    "plt.title(\"M/O Ratio from 1900 to 2018\",color='w')\n",
    "           \n",
    "[i.set_color(\"red\") for i in plt.gca().get_xticklabels()]\n",
    "[i.set_color(\"red\") for i in plt.gca().get_yticklabels()]\n",
    "plt.plot(c,d,'r')\n",
    "plt.savefig('MO.png')\n",
    "plt.show()\n"
   ]
  },
  {
   "cell_type": "code",
   "execution_count": null,
   "metadata": {},
   "outputs": [],
   "source": []
  }
 ],
 "metadata": {
  "hide_input": false,
  "kernelspec": {
   "display_name": "CfaMJ",
   "language": "python",
   "name": "cfamj"
  },
  "language_info": {
   "codemirror_mode": {
    "name": "ipython",
    "version": 3
   },
   "file_extension": ".py",
   "mimetype": "text/x-python",
   "name": "python",
   "nbconvert_exporter": "python",
   "pygments_lexer": "ipython3",
   "version": "3.7.5"
  },
  "toc": {
   "base_numbering": 1,
   "nav_menu": {},
   "number_sections": true,
   "sideBar": false,
   "skip_h1_title": false,
   "title_cell": "Table of Contents",
   "title_sidebar": "Contents",
   "toc_cell": false,
   "toc_position": {
    "height": "750px",
    "left": "31px",
    "top": "49px",
    "width": "232px"
   },
   "toc_section_display": true,
   "toc_window_display": true
  }
 },
 "nbformat": 4,
 "nbformat_minor": 2
}
